{
 "cells": [
  {
   "cell_type": "markdown",
   "metadata": {},
   "source": [
    "# 3. Ecuaciones de Bellman\n",
    "\n",
    "- Programación dinámica\n",
    "- Value function iteration"
   ]
  },
  {
   "cell_type": "markdown",
   "metadata": {},
   "source": [
    "### Programación dinámica\n",
    "\n",
    "Planteemos un modelo de crecimiento neoclásico \n",
    "\n",
    "$$\n",
    "\\begin{array}{rl}\n",
    "\\max_{\\{c_{t}, k_{t+1}\\}_{t=0}^{\\infty}} & \\sum_{t=0}^{T}\\beta^{t}u(c_{t}) \\\\ \\\\\n",
    "\\text{s.a} & c_{t}+k_{t+1} \\leq f(k_{t}) \\\\ %\\equiv F(k_{t}) + (1-\\delta)k_{t}\n",
    "\t\t   & k_{0} > 0 \\quad\\text{dado}\n",
    "\\end{array}\n",
    "$$\n",
    "\n",
    "El problema puede resolverse de forma secuencial (ver [notebook 2.1](2.1-algorithms.ipynb)) o de forma recursiva (como veremos aquí).\n",
    "\n",
    "El modelo de crecimiento neoclásico puede expresarse como un problema de programación dinámica de la siguiente manera:\n",
    "\n",
    "$$\n",
    "v(k) = \\max_{k'\\in\\Gamma(k)}~~u[f(k) - k'] + \\beta v(k')\n",
    "$$\n",
    "\n",
    "Lo anterior es una **Ecuación de Bellman**. Es una ecuación funcional y su solución es una función.\n",
    "\n",
    "- $k$ es la variable de estado\n",
    "- $k'$ es la variable de control\n",
    "- $\\Gamma(k)$ es el espacio de $k'$ factibles dado $k$\n",
    "\n",
    "$v(k)$ representa la máxima utilidad que se puede obtener a partir de $k$ si se toman decisiones racionales.\n",
    "\n",
    "Definimos a su vez la **función de política** $g(k)$ como el vector de variables de control que maximiza la trayectoria de utilidad, dada la condición inicial $k$.\n",
    "\n",
    "$$\n",
    "g(k) = \\argmax_{k'\\in\\Gamma(k)}~~u[f(k) - k'] + \\beta v(k')\n",
    "$$"
   ]
  },
  {
   "cell_type": "markdown",
   "metadata": {},
   "source": [
    "### Value function iteration\n",
    "\n",
    "Una forma de resolver este problema es de forma recursiva. Aplicamos un algoritmo de iteración de función de valor. \n",
    "\n",
    "Supongamos que queremos resolver el problema de crecimiento planteado en la sección anterior, con una función de utilidad logarítmica y una función de producción Cobb-Douglas. \n",
    "$$\n",
    "\\begin{array}{rl}\n",
    "u(c) &= log(c) \\\\\n",
    "F(k) &= Ak^{\\alpha} \\\\\n",
    "f(k) &= F(k) + (1 - \\delta)k\n",
    "\\end{array}\n",
    "$$\n",
    "\n",
    "\n",
    "Supongamos además que los parámetros de interés toman los siguientes valores: $\\beta = 0.96, \\delta = 1, A = 1, \\alpha = 0.36$ y $k_0 = 0.3 * k^*$, donde $k^*$ es el valor de estado estacionario del capital. \n",
    "\n",
    "Inicializamos los parámetros y definimos las funciones"
   ]
  },
  {
   "cell_type": "code",
   "execution_count": null,
   "metadata": {},
   "outputs": [],
   "source": [
    "using LinearAlgebra, Plots, LaTeXStrings"
   ]
  },
  {
   "cell_type": "code",
   "execution_count": null,
   "metadata": {},
   "outputs": [],
   "source": [
    "α = 0.36\n",
    "β = 0.96\n",
    "δ = 0.05\n",
    "A = 1.0\n",
    "\n",
    "u(c) = log(c)\n",
    "F(k) = A * k ^ α\n",
    "f(k) = F(k) + (1 - δ) * k"
   ]
  },
  {
   "cell_type": "markdown",
   "metadata": {},
   "source": [
    "#### Value function iteration\n",
    "\n",
    "$$V^{i+1}(k) = \\max_{k'\\in\\Gamma(k)} u(k) + \\beta V^{i}(k')$$\n",
    "\n",
    "1. Definir parámetros relevantes\n",
    "\t- `num_k`: número de puntos en la grilla de $k$\n",
    "\t- `k_min`: valor mínimo de $k$ factibles\n",
    "\t- `k_max`: valor máximo de $k$ factibles\n",
    "\t- `tol`: tolerancia de error (criterio de convergencia)\n",
    "2. Definir grilla de $k$ (`num_k` puntos equidistantes entre `k_min` y `k_max`)\n",
    "3. Definir punto de partida para la iteración\n",
    "\t- Una condición trivial de inicio es utilidad cero para todos los valores de $k$: $V^0 = \\{0\\}_{i=1}^{n_k}$\n",
    "4. Actualizar iterativamente la función de valor $V^1$\n",
    "\t- Tomar un punto de la grilla $k^i$\n",
    "\t- Computar la utilidad de pasar del punto $k^i$ a todos los demás puntos de la grilla $k^j$.\n",
    "\t- Elegir el valor $k^j$ que genera la utilidad máxima partiendo de $k^i$ y guardarlo como $V^1(k^i)$. \n",
    "\t- Repetir paso 4 para cada punto $k^i\\in\\Gamma$\n",
    "5. Comparar $V^0$ y $V^1$. Computar distancia $d = ||V^1 - V^0||$\n",
    "6. Si $d$ < `tol` entonces hay convergencia. Si $d$ > `tol` entonces repetimos el proceso con una nueva función $V^2$, usando $V^1$ como $V^0$ en la iteración anterior.\n"
   ]
  },
  {
   "cell_type": "code",
   "execution_count": null,
   "metadata": {},
   "outputs": [],
   "source": []
  },
  {
   "cell_type": "code",
   "execution_count": null,
   "metadata": {},
   "outputs": [],
   "source": [
    "plotV = plot(k_grid, V,\n",
    "\t\t\t title = \"Value function\", \n",
    "\t\t\t xaxis = L\"k\",\n",
    "\t\t\t yaxis = L\"V(k)\",\n",
    "\t\t\t legend = false)\n",
    "plotg = plot(k_grid, g,\n",
    "\t\t\t color = \"darkorange\",\n",
    "\t\t\t title = \"Policy function\",\n",
    "\t\t\t xaxis = L\"k\",\n",
    "\t\t\t yaxis = L\"g(k)\",\n",
    "\t\t\t legend = false)\n",
    "plot(plotV, plotg)"
   ]
  }
 ],
 "metadata": {
  "kernelspec": {
   "display_name": "Julia 1.10.4",
   "language": "julia",
   "name": "julia-1.10"
  },
  "language_info": {
   "file_extension": ".jl",
   "mimetype": "application/julia",
   "name": "julia",
   "version": "1.10.4"
  }
 },
 "nbformat": 4,
 "nbformat_minor": 2
}
