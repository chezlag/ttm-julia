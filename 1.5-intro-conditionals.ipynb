{
 "cells": [
  {
   "cell_type": "markdown",
   "metadata": {},
   "source": [
    "## 5. Condicionales\n",
    "\n",
    "Temas:\n",
    "- Condicionar con `if` y `else`\n",
    "- Operadores ternarios\n",
    "\n",
    "### Condicionar con `if` y `else`\n",
    "\n",
    "En Julia, la sintaxis\n",
    "\n",
    "```julia\n",
    "if *condición 1*\n",
    "    *opción 1*\n",
    "elseif *condición 2*\n",
    "    *opción 2*\n",
    "else\n",
    "    *opción 3*\n",
    "end\n",
    "```\n",
    "\n",
    "nos permite la evaluación condicional de varias expresiones.\n",
    "\n",
    "Supongamos que queremos implementar el test \"FizzBuzz\": dado un número, N, imprimir \"Fizz\" si N es divisible entre 3, \"Buzz\" si N es divisible entre 5 y \"FizzBuzz\" si es divisible entre 3 y 5. De lo contrario, imprimir el número original."
   ]
  },
  {
   "cell_type": "code",
   "execution_count": null,
   "metadata": {},
   "outputs": [],
   "source": [
    "N = 5"
   ]
  },
  {
   "cell_type": "code",
   "execution_count": null,
   "metadata": {},
   "outputs": [],
   "source": [
    "if (N % 3 == 0) && (N % 5 == 0) # `&&` quiere decir \"AND\"; % computa el resto de la división\n",
    "    println(\"FizzBuzz\")\n",
    "elseif N % 3 == 0\n",
    "    println(\"Fizz\")\n",
    "elseif N % 5 == 0\n",
    "    println(\"Buzz\")\n",
    "else\n",
    "    println(N)\n",
    "end"
   ]
  },
  {
   "cell_type": "markdown",
   "metadata": {},
   "source": [
    "### Condicionar con operadores ternarios\n",
    "\n",
    "Otra forma de condicionar es utilizando operadores ternarios, con la sintaxis\n",
    "\n",
    "```julia\n",
    "a ? b : c\n",
    "```\n",
    "\n",
    "que es equivalente a\n",
    "\n",
    "```julia\n",
    "if a\n",
    "    b\n",
    "else\n",
    "    c\n",
    "end\n",
    "```"
   ]
  },
  {
   "cell_type": "markdown",
   "metadata": {},
   "source": [
    "Por ejemplo, supongamos que queremos devolver el mayor de dos valores. Definamos `x` y `y`:"
   ]
  },
  {
   "cell_type": "code",
   "execution_count": null,
   "metadata": {},
   "outputs": [],
   "source": [
    "x = 10\n",
    "y = 30"
   ]
  },
  {
   "cell_type": "markdown",
   "metadata": {},
   "source": [
    "Usando `if` y `else` escribiríamos"
   ]
  },
  {
   "cell_type": "code",
   "execution_count": null,
   "metadata": {},
   "outputs": [],
   "source": [
    "if x > y\n",
    "    x\n",
    "else\n",
    "    y\n",
    "end"
   ]
  },
  {
   "cell_type": "markdown",
   "metadata": {},
   "source": [
    "y con un operador ternario, la operación se vería asi:"
   ]
  },
  {
   "cell_type": "code",
   "execution_count": null,
   "metadata": {},
   "outputs": [],
   "source": [
    "(x > y) ? x : y"
   ]
  },
  {
   "cell_type": "markdown",
   "metadata": {},
   "source": [
    "### Ejercicios\n",
    "\n",
    "#### 5.1 \n",
    "\n",
    "Escribir una expresión condicional que devuelve un número si el número es par y la cadena \"impar\" si el número es impar. "
   ]
  },
  {
   "cell_type": "code",
   "execution_count": null,
   "metadata": {},
   "outputs": [],
   "source": []
  },
  {
   "cell_type": "markdown",
   "metadata": {},
   "source": [
    "#### 5.2 \n",
    "\n",
    "Reescribir el código anterior usando un operador ternario."
   ]
  },
  {
   "cell_type": "code",
   "execution_count": null,
   "metadata": {},
   "outputs": [],
   "source": []
  }
 ],
 "metadata": {
  "kernelspec": {
   "display_name": "Julia 1.6.0",
   "language": "julia",
   "name": "julia-1.6"
  },
  "language_info": {
   "file_extension": ".jl",
   "mimetype": "application/julia",
   "name": "julia",
   "version": "1.6.0"
  }
 },
 "nbformat": 4,
 "nbformat_minor": 4
}
