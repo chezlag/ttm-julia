{
 "cells": [
  {
   "cell_type": "markdown",
   "metadata": {},
   "source": [
    "## 2. Resolviendo ecuaciones\n",
    "\n",
    "- Sistemas de ecuaciones lineales\n",
    "- Ecuaciones no lineales\n",
    "- Sistemas de ecuaciones no lineales\n",
    "- *Solvers*\n",
    "\n",
    "### Ecuaciones lineales\n",
    "\n",
    "Pensemos en un sistema de ecuaciones lineales:\n",
    "\n",
    "$$\n",
    "\\begin{cases}\n",
    "\t5x + 2y + 3z = 28 \\\\\n",
    "\t-3x +4y -2z = -2 \\\\\n",
    "\t2x - 2 y + 6 z = 22\n",
    "\\end{cases}\n",
    "$$\n",
    "\n",
    "Se puede expresar en notación matricial como:\n",
    "\n",
    "$$\n",
    "\\underbrace{\\begin{pmatrix}5 & 2 & 3 \\\\ -3 & 4 & -2 \\\\ 2 & -2 & 6\\end{pmatrix}}_{A} \n",
    "\\cdot \n",
    "\\underbrace{\\begin{pmatrix}x \\\\ y \\\\ z \\end{pmatrix}}_{x}\n",
    "= \n",
    "\\underbrace{\\begin{pmatrix}28 \\\\ -2 \\\\ 22 \\end{pmatrix}}_{b}\n",
    "$$\n",
    "\n",
    "La solución viene dada por\n",
    "\n",
    "$$\n",
    "x = A^{-1} b\n",
    "$$\n",
    "\n",
    "El paquete `LinearAlgebra` incluye operaciones de álgebra lineal que permiten resolver este problema."
   ]
  },
  {
   "cell_type": "code",
   "execution_count": null,
   "metadata": {},
   "outputs": [],
   "source": [
    "using LinearAlgebra"
   ]
  },
  {
   "cell_type": "code",
   "execution_count": null,
   "metadata": {},
   "outputs": [],
   "source": [
    "b = [28, -2, 22]\n",
    "A = [5 2 3; -3 4 -2; 2 -2 6]\n",
    "x = A \\ b"
   ]
  },
  {
   "cell_type": "markdown",
   "metadata": {},
   "source": [
    "En el código anterior, definimos la matriz `A` y el vector `b`. Luego hallamos `x = A \\ b`. La operación `\\` está definida para matrices y vectores, y es equivalente a hacer:"
   ]
  },
  {
   "cell_type": "code",
   "execution_count": null,
   "metadata": {},
   "outputs": [],
   "source": [
    "x = A^-1 * b"
   ]
  },
  {
   "cell_type": "markdown",
   "metadata": {},
   "source": [
    "### Ecuaciones no lineales\n",
    "\n",
    "Para resolver ecuaciones no lineales, no podemos apoyarnos en el álgebra lineal. \n",
    "\n",
    "Hay muchas formas de buscar una solución a un problema no lineal. Las soluciones se pueden expresar como **algoritmos**, es decir, como un conjunto de instrucciones o pasos a seguir para alcanzar la solución. Llamamos *solvers* a los algoritmos que *resuelven* problemas matemáticos, como hallar las raíces de una función o resolver problemas de optimización con restricciones.\n",
    "\n",
    "Los *solvers* nos permiten separar la parte matemática de un problema de su solución computacional. \n",
    "\n",
    "Hay paquetes que incluyen *solvers* junto con interfaces para aplicarlos a nuestros problemas especificos. \n",
    "\n",
    "Vamos a usar los paquetes `Roots` y `NLsolve`. Empezemos por encontrar las raíces de una función no lineal."
   ]
  },
  {
   "cell_type": "code",
   "execution_count": null,
   "metadata": {},
   "outputs": [],
   "source": [
    "using Roots, NLsolve"
   ]
  },
  {
   "cell_type": "markdown",
   "metadata": {},
   "source": [
    "Pensemos en la ecuación $4 - x = \\frac{1}{x}$\n",
    "\n",
    "Queremos hallar los valores de $x$ para los que la ecuación se cumple.\n",
    "\n",
    "Podemos expresar la función $f(x) = 4 - x - \\frac{1}{x}$ y encontrar $x$ tal que $f(x) = 0$.\n",
    "\n",
    "Para resolver este problema en Julia, vamos a definir `f` y encontrar las raíces de esta función, es decir, los puntos en que $f(x) = 0$. \n",
    "\n",
    "Para ello, usamos la función `find_zero` del paquete `Roots`. \n",
    "\n",
    "La función `find_zero` toma tres inputs: la función que queremos resolver, el punto donde queremos iniciar la búsqueda y un algoritmo de búsqueda (en este caso, no especificamos un algoritmo y usamos la opción por defecto: búsqueda por bisección o *bisection search*)."
   ]
  },
  {
   "cell_type": "code",
   "execution_count": null,
   "metadata": {},
   "outputs": [],
   "source": [
    "f(x) = 4 - x - 4/x\n",
    "first_guess = 10.0\n",
    "find_zero(f, first_guess)"
   ]
  },
  {
   "cell_type": "markdown",
   "metadata": {},
   "source": [
    "Como veremos más adelante, será crucial elegir un \"buen\" valor para iniciar nuestras aproximaciones.\n",
    "\n",
    "Pasemos a un ejemplo más complejo. Pensemos en un sistema de ecuaciones no lineal:\n",
    "\n",
    "$$\n",
    "\\begin{cases}\n",
    "\t2x - y = e^{-x} \\\\\n",
    "\t-2x + 2y = e^{-y}\n",
    "\\end{cases}\n",
    "$$\n",
    "\n",
    "Ahora, tenemos que definir una función `g`, que tome dos inputs `x` e `y`, y tenga dos outputs, uno para cada ecuación."
   ]
  },
  {
   "cell_type": "code",
   "execution_count": null,
   "metadata": {},
   "outputs": [],
   "source": [
    "function g(x)\n",
    "    eq1 = 2 * x[1] - x[2] - exp(-x[1])\n",
    "    eq2 = -2 * x[1] + 2 * x[2] - exp(-x[2])\n",
    "    return (eq1, eq2)\n",
    "end\n",
    "\n",
    "g([2.0, 3.0])"
   ]
  },
  {
   "cell_type": "markdown",
   "metadata": {},
   "source": [
    "Queremos encontrar una solución $(x, y)$ que haga que ambas ecuaciones sean cero simultaneamente. \n",
    "\n",
    "La función `find_zero` ya no nos sirve –solo está definida para ecuaciones simples, no para sistemas de ecuaciones–.\n",
    "\n",
    "Recurrimos a la función `nlsolve` del paquete `NLsolve`, diseñado para resolver sistemas de ecuaciones no lineales. La sintaxis es muy similar a `find_zero`:"
   ]
  },
  {
   "cell_type": "code",
   "execution_count": null,
   "metadata": {},
   "outputs": [],
   "source": [
    "first_guess = [0.0, 0.0]\n",
    "sol = nlsolve(g, first_guess)"
   ]
  },
  {
   "cell_type": "markdown",
   "metadata": {},
   "source": [
    "Podemos guardar la solución en un objeto, llamémosle `sol`. En él quedan guardados varios componentes del resultado, a los que podemos accedar para seguir operando sobre ellos.\n",
    "\n",
    "Nos interesan, fundamentalmente, las raices:"
   ]
  },
  {
   "cell_type": "code",
   "execution_count": null,
   "metadata": {},
   "outputs": [],
   "source": [
    "sol.zero"
   ]
  },
  {
   "cell_type": "markdown",
   "metadata": {},
   "source": [
    "### Ejercicios\n",
    "\n",
    "#### 2.1\n",
    "\n",
    "Replantear el modelo de crecimiento neoclásico con utilidad logarítmica y función de producción Cobb-Douglas. \n",
    "\n",
    "Resolver el modelo con el *shooting algorithm* usando uno de los *solvers* planteados.\n",
    "\n",
    "Tip: explorar \"closure functions\""
   ]
  }
 ],
 "metadata": {
  "kernelspec": {
   "display_name": "Julia 1.10.4",
   "language": "julia",
   "name": "julia-1.10"
  },
  "language_info": {
   "file_extension": ".jl",
   "mimetype": "application/julia",
   "name": "julia",
   "version": "1.10.4"
  }
 },
 "nbformat": 4,
 "nbformat_minor": 2
}
