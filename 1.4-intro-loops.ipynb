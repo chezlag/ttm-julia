{
 "cells": [
  {
   "cell_type": "markdown",
   "metadata": {},
   "source": [
    "## 4. Loops\n",
    "\n",
    "Temas\n",
    "- `while` loops\n",
    "- `for` loops\n",
    "\n",
    "### `while` loops\n",
    "\n",
    "La sintaxis para un loop `while` es\n",
    "\n",
    "```julia\n",
    "while *condición*\n",
    "\t*cuerpo del loop*\n",
    "end\n",
    "```\n",
    "\n",
    "Mientras que `condición` sea verdadera, el loop va a seguir corriendo una y otra vez. \n",
    "\n",
    "Podemos usar este tipo de loop para contar o iterar sobre un arreglo."
   ]
  },
  {
   "cell_type": "code",
   "execution_count": null,
   "metadata": {},
   "outputs": [],
   "source": [
    "n = 0\n",
    "while n < 10\n",
    "\tn += 1\n",
    "\tprintln(n)\n",
    "end\n",
    "n"
   ]
  },
  {
   "cell_type": "code",
   "execution_count": null,
   "metadata": {},
   "outputs": [],
   "source": [
    "reptiles = [\"lagartijo\", \"iguana\", \"lagarto\"]\n",
    "\n",
    "i = 1\n",
    "while i <= length(reptiles)\n",
    "\treptil = reptiles[i]\n",
    "\tprintln(\"Hola $reptil, que bueno verte!\")\n",
    "\ti +=1\n",
    "end"
   ]
  },
  {
   "cell_type": "markdown",
   "metadata": {},
   "source": [
    "### `for` loops\n",
    "\n",
    "La sintaxis de un loop `for` es\n",
    "\n",
    "```julia\n",
    "for *var* in *elementos iterables*\n",
    "    *cuerpo del loop*\n",
    "end\n",
    "```\n",
    "\n",
    "Podemos usar un `for` loop para generar los mismos resultados que en los ejemplos anteriores:"
   ]
  },
  {
   "cell_type": "code",
   "execution_count": null,
   "metadata": {},
   "outputs": [],
   "source": [
    "for n in 1:10\n",
    "\tprintln(n)\n",
    "end"
   ]
  },
  {
   "cell_type": "code",
   "execution_count": null,
   "metadata": {},
   "outputs": [],
   "source": [
    "for reptil in reptiles\n",
    "\tprintln(\"Hola $reptil, que bueno verte!\")\n",
    "end"
   ]
  },
  {
   "cell_type": "markdown",
   "metadata": {},
   "source": [
    "Ahora una aplicación más interesante. Vamos a usar un `for` loop para crear una matriz, donde el valor de cada elemento es igual a la suma de su índice de fila y de columna.\n",
    "\n",
    "Primero, inicializamos el arreglo con ceros."
   ]
  },
  {
   "cell_type": "code",
   "execution_count": null,
   "metadata": {},
   "outputs": [],
   "source": [
    "m, n = 5, 5\n",
    "A = fill(0, (m, n))"
   ]
  },
  {
   "cell_type": "code",
   "execution_count": null,
   "metadata": {},
   "outputs": [],
   "source": [
    "for j in 1:n\n",
    "    for i in 1:m\n",
    "        A[i, j] = i + j\n",
    "    end\n",
    "end\n",
    "A"
   ]
  },
  {
   "cell_type": "markdown",
   "metadata": {},
   "source": [
    "Ahora, otra versión aprovechando la sintaxis de Julia."
   ]
  },
  {
   "cell_type": "code",
   "execution_count": null,
   "metadata": {},
   "outputs": [],
   "source": [
    "B = fill(0, (m, n))"
   ]
  },
  {
   "cell_type": "code",
   "execution_count": null,
   "metadata": {},
   "outputs": [],
   "source": [
    "for j in 1:n, i in 1:m\n",
    "    B[i, j] = i + j\n",
    "end\n",
    "B"
   ]
  },
  {
   "cell_type": "markdown",
   "metadata": {},
   "source": [
    "Una forma aún más sintética de hacer esto en Julia es con una *comprensión de arreglo*:"
   ]
  },
  {
   "cell_type": "code",
   "execution_count": null,
   "metadata": {},
   "outputs": [],
   "source": [
    "C = [i + j for i in 1:m, j in 1:n]"
   ]
  },
  {
   "cell_type": "markdown",
   "metadata": {},
   "source": [
    "### Ejercicios\n",
    "\n",
    "#### 4.1\n",
    "\n",
    "Armar un loop sobre los enteros de 1 a 100 y imprimir sus cuadrados."
   ]
  },
  {
   "cell_type": "code",
   "execution_count": null,
   "metadata": {},
   "outputs": [],
   "source": []
  },
  {
   "cell_type": "markdown",
   "metadata": {},
   "source": [
    "#### 4.2 \n",
    "\n",
    "Modificar el código anterior para crear una tupla `cuadrados` de 100 elementos, que contenga los cuadrados de los enteros de 1 a 100 tal que\n",
    "\n",
    "```julia\n",
    "cuadrados[10] == 100\n",
    "```"
   ]
  },
  {
   "cell_type": "code",
   "execution_count": null,
   "metadata": {},
   "outputs": [],
   "source": []
  },
  {
   "cell_type": "code",
   "execution_count": null,
   "metadata": {},
   "outputs": [],
   "source": [
    "@assert cuadrados[10] == 100\n",
    "@assert cuadrados[98] == 9604"
   ]
  },
  {
   "cell_type": "markdown",
   "metadata": {},
   "source": [
    "#### 4.3 \n",
    "\n",
    "Usar una comprensión de arreglo para crear un arreglo `cuadrados_arr` que contenga los cuadrados de todos los enteros de 1 a 100."
   ]
  },
  {
   "cell_type": "code",
   "execution_count": null,
   "metadata": {},
   "outputs": [],
   "source": []
  },
  {
   "cell_type": "code",
   "execution_count": null,
   "metadata": {},
   "outputs": [],
   "source": [
    "@assert length(cuadrados_arr) == 100\n",
    "@assert sum(cuadrados_arr) == 338350"
   ]
  }
 ],
 "metadata": {
  "kernelspec": {
   "display_name": "Julia 1.10.4",
   "language": "julia",
   "name": "julia-1.10"
  },
  "language_info": {
   "file_extension": ".jl",
   "mimetype": "application/julia",
   "name": "julia",
   "version": "1.10.4"
  }
 },
 "nbformat": 4,
 "nbformat_minor": 2
}
