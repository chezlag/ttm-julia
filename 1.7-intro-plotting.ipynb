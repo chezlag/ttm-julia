{
 "cells": [
  {
   "cell_type": "markdown",
   "metadata": {},
   "source": [
    "## 7. Gráficos\n",
    "\n",
    "Tópicos:\n",
    "\n",
    "- Introducción a paquetes\n",
    "- Graficar una variable de ruido blanco"
   ]
  },
  {
   "cell_type": "markdown",
   "metadata": {},
   "source": [
    "### Paquetes\n",
    "\n",
    "- Instalación de paquetes se puede hacer de dos maneras:\n",
    "  - Agregando los paquetes a la instalación global de Julia (con `Pkg.add(\"MyPackage\")` o `] add MyPackage`). \n",
    "    - Con `]` se entra al modo de paquetes. Para volver al REPL, borramos.\n",
    "  - Si la carpeta tiene archivos `Manifest.toml` y `Project.toml` se puede instalar una versión específica de los paquetes para el proyecto.\n",
    "    - Para instalar los paquetes, corremos `] instantiate`.\n",
    "\n",
    "Específicar los paquetes que se usaron en el proyecto (y sus versiones) asegura que el código sea reproducible.\n",
    "\n",
    "Luego de que los paquetes estén instalados, los importamos con `using`. Es una forma de señalar qué paquetes vamos a usar en cada script o notebook."
   ]
  },
  {
   "cell_type": "code",
   "execution_count": null,
   "metadata": {},
   "outputs": [],
   "source": [
    "using LinearAlgebra, Statistics, Plots, LaTeXStrings"
   ]
  },
  {
   "cell_type": "markdown",
   "metadata": {},
   "source": [
    "### Graficar una variable de ruido blanco\n",
    "\n",
    "- Algunas funciones vienen incorporadas a Julia. Por ejemplo, `randn()` devuelve una extracción de una distribución Normal(0, 1).\n",
    "- Otras funciones requieren importarlas de paquetes con `using`\n",
    "  - Los paquetes `LinearAlgebra` y `Statistics` son nativos de Julia, pero para usarlos hay que activarlos con `using`.\n",
    "  - `using Plots` hace que todas las funciones de `Plots.jl` estén disponibles para ser utilizadas\n",
    "\n",
    "En este ejemplo:\n",
    "\n",
    "- Creamos `n`, que toma valor 100.\n",
    "- Creamos `ϵ`, un vector de `n` extracciones de una Normal(0, 1)\n",
    "- La función `plot()` toma dos argumentos. El primero es el vector `1,...,n` para el eje x y el segundo es $\\epsilon$ para el eje y."
   ]
  },
  {
   "cell_type": "code",
   "execution_count": null,
   "metadata": {},
   "outputs": [],
   "source": [
    "n = 100\n",
    "ϵ = randn(n)\n",
    "plot(1:n, ϵ)"
   ]
  },
  {
   "cell_type": "markdown",
   "metadata": {},
   "source": [
    "¿Cómo agregaríamos al gráfico anterior otra serie?\n",
    "\n",
    "Para reafirmar conceptos, primero vamos a hacer algo innecesario y después lo vamos a hacer de la forma más \"Julia\".\n",
    "\n",
    "Si quisieramos tener un vector que contenga los valores de $\\epsilon^2$, podemos armarlo con un `for` loop."
   ]
  },
  {
   "cell_type": "code",
   "execution_count": null,
   "metadata": {},
   "outputs": [],
   "source": [
    "# Mal estilo\n",
    "n = 100\n",
    "ep_sq = zeros(n)\n",
    "for i in 1:n\n",
    "\tep_sq[i] = ϵ[i] ^ 2\n",
    "end"
   ]
  },
  {
   "cell_type": "code",
   "execution_count": null,
   "metadata": {},
   "outputs": [],
   "source": [
    "# un poco mejor\n",
    "n = 100\n",
    "ep_sq = zeros(n)\n",
    "for i in eachindex(ep_sq)\n",
    "\tep_sq[i] = ϵ[i] ^ 2\n",
    "end"
   ]
  },
  {
   "cell_type": "markdown",
   "metadata": {},
   "source": [
    "La función `eachindex` crea un vector de índices dinámicamente, sin guardar un vector en la memoria. Es más eficiente, especialmente cuando trabajamos con datos grandes. Además, deja claro el vínculo entre `i` y `ep_sq`.\n",
    "\n",
    "De todas formas, la mejor forma de hacer esto es mediante `broadcast`ing:"
   ]
  },
  {
   "cell_type": "code",
   "execution_count": null,
   "metadata": {},
   "outputs": [],
   "source": [
    "ep_sq = ϵ .^ 2"
   ]
  },
  {
   "cell_type": "markdown",
   "metadata": {},
   "source": [
    "Pasamos a graficar, reconstruyendo el problema.\n",
    "\n",
    "Queremos graficar un vector de ruido blanco y su cuadrado en el mismo gráfico."
   ]
  },
  {
   "cell_type": "code",
   "execution_count": null,
   "metadata": {},
   "outputs": [],
   "source": [
    "n = 100\n",
    "f(x) = x^2\n",
    "\n",
    "ϵ = randn(n)\n",
    "plot(ϵ, label = L\"x\")\n",
    "plot!(f.(ϵ), label = L\"x^2\")"
   ]
  },
  {
   "cell_type": "markdown",
   "metadata": {},
   "source": [
    "Algunos comentarios:\n",
    "- Podemos graficar sin especificar un eje x. Por defecto, grafica el vector usando su índice como eje x.\n",
    "- `plot!` superpone un gráfico al existente\n",
    "- La `L` antes de las etiquetas es una función del paquete `LaTeXStrings`. Hace que la string se interprete como Latex."
   ]
  },
  {
   "cell_type": "markdown",
   "metadata": {},
   "source": [
    "### Ejercicios\n",
    "\n",
    "#### 7.1\n",
    "\n",
    "Dado \n",
    "\n",
    "```julia\n",
    "x = -10:10\n",
    "```\n",
    "\n",
    "graficar $y = x^2$. "
   ]
  },
  {
   "cell_type": "code",
   "execution_count": null,
   "metadata": {},
   "outputs": [],
   "source": []
  },
  {
   "cell_type": "markdown",
   "metadata": {},
   "source": [
    "#### 7.2\n",
    "\n",
    "Ejecutar el siguiente código"
   ]
  },
  {
   "cell_type": "code",
   "execution_count": null,
   "metadata": {},
   "outputs": [],
   "source": [
    "p1 = plot(x, x)\n",
    "p2 = plot(x, x .^ 2)\n",
    "p3 = plot(x, x .^ 3)\n",
    "p4 = plot(x, x .^ 4)\n",
    "plot(p1, p2, p3, p4, layout=(2, 2), legend=false)"
   ]
  },
  {
   "cell_type": "markdown",
   "metadata": {},
   "source": [
    "y crear un gráfico de 4×1 que use `p1`, `p2`, `p3` y `p4` como subgráficos."
   ]
  },
  {
   "cell_type": "code",
   "execution_count": null,
   "metadata": {},
   "outputs": [],
   "source": []
  }
 ],
 "metadata": {
  "kernelspec": {
   "display_name": "Julia 1.10.4",
   "language": "julia",
   "name": "julia-1.10"
  },
  "language_info": {
   "file_extension": ".jl",
   "mimetype": "application/julia",
   "name": "julia",
   "version": "1.10.4"
  }
 },
 "nbformat": 4,
 "nbformat_minor": 2
}
